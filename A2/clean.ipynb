{
 "cells": [
  {
   "cell_type": "code",
   "execution_count": 2,
   "metadata": {},
   "outputs": [],
   "source": [
    "import numpy as np\n",
    "import matplotlib.pyplot as plt\n",
    "import os \n",
    "import pandas as pd "
   ]
  },
  {
   "cell_type": "code",
   "execution_count": 3,
   "metadata": {},
   "outputs": [
    {
     "name": "stdout",
     "output_type": "stream",
     "text": [
      "dict_keys(['Index', 'Key macro', 'Major indicators', 'Beef &amp;amp; veal', 'Chicken', 'Coarse grains', 'Dairy', 'Fisheries', 'Horticulture', 'Natural fibres', 'Oilseeds', 'Pig', 'SheepMeat', 'Sugar', 'Wheat', 'Wine'])\n"
     ]
    }
   ],
   "source": [
    "sheets = pd.read_excel('D:\\\\FIT3179\\\\Github\\\\3179\\A2\\\\01_AgCommodities202403_Tables_v1.0.0.xlsx', sheet_name=None)\n",
    "print(sheets.keys())\n",
    "\n",
    "cleaned_sheets = {}\n",
    "for sheet_name, df in sheets.items():\n",
    "    # Example: Convert a specific column to numeric\n",
    "    if 'column_name' in df.columns:\n",
    "        df['column_name'] = pd.to_numeric(df['column_name'], errors='coerce')\n",
    "        df['column_name'].fillna(df['column_name'].mean(), inplace=True)\n",
    "    \n",
    "    # Store the cleaned DataFrame\n",
    "    cleaned_sheets[sheet_name] = df\n",
    "\n",
    "# Optionally, save cleaned sheets back to a new Excel file\n",
    "with pd.ExcelWriter('cleaned_data.xlsx') as writer:\n",
    "    for sheet_name, df in cleaned_sheets.items():\n",
    "        df.to_excel(writer, sheet_name=sheet_name, index=False)"
   ]
  },
  {
   "cell_type": "code",
   "execution_count": 6,
   "metadata": {},
   "outputs": [
    {
     "name": "stdout",
     "output_type": "stream",
     "text": [
      "   Unnamed: 0 Agricultural commodities March 2024 Unnamed: 2 Unnamed: 3  \\\n",
      "0         NaN                                 NaN        NaN        NaN   \n",
      "1         NaN                                 NaN        NaN        NaN   \n",
      "2         NaN                                 NaN        NaN        NaN   \n",
      "3         NaN                                 NaN        NaN        NaN   \n",
      "4         NaN                                 NaN        NaN        NaN   \n",
      "\n",
      "  Unnamed: 4 Unnamed: 1 Unnamed: 5 Unnamed: 6 Unnamed: 7 Unnamed: 8  \\\n",
      "0        NaN        NaN        NaN        NaN        NaN        NaN   \n",
      "1        NaN        NaN        NaN        NaN        NaN        NaN   \n",
      "2        NaN        NaN        NaN        NaN        NaN        NaN   \n",
      "3        NaN        NaN        NaN        NaN        NaN        NaN   \n",
      "4        NaN        NaN        NaN        NaN        NaN        NaN   \n",
      "\n",
      "  Unnamed: 9 Unnamed: 10  \n",
      "0        NaN         NaN  \n",
      "1        NaN         NaN  \n",
      "2        NaN         NaN  \n",
      "3        NaN         NaN  \n",
      "4        NaN         NaN  \n"
     ]
    }
   ],
   "source": [
    "#combined all the sheet into one dataframe from the cleaned_data.xlsx\n",
    "df = pd.read_excel('cleaned_data.xlsx', sheet_name=None)\n",
    "df = pd.concat(df, ignore_index=True)\n",
    "print(df.head())\n"
   ]
  },
  {
   "cell_type": "code",
   "execution_count": null,
   "metadata": {},
   "outputs": [],
   "source": []
  }
 ],
 "metadata": {
  "kernelspec": {
   "display_name": "base",
   "language": "python",
   "name": "python3"
  },
  "language_info": {
   "codemirror_mode": {
    "name": "ipython",
    "version": 3
   },
   "file_extension": ".py",
   "mimetype": "text/x-python",
   "name": "python",
   "nbconvert_exporter": "python",
   "pygments_lexer": "ipython3",
   "version": "3.11.5"
  }
 },
 "nbformat": 4,
 "nbformat_minor": 2
}
